{
 "cells": [
  {
   "cell_type": "markdown",
   "metadata": {},
   "source": [
    "#  Demo of `PyLie.py` library\n",
    "_This is a short introduction to `PyLie` a Python module to work with Lie algebras in particle physics_\n",
    "\n",
    "## I Introduction\n",
    "\n",
    "`PyLie` is a module that allows the user to carry out various calculation with lie algebras. For the implemented Lie algebras are $A$, $B$, $C$ and $D$ (I actually think that I just forgot to implement the cartan of the other ones). Within `PyLie`, it is possible to manipulate the weights, the roots, construct a system of representation matrix for any _irreducible representation_ (irrep). In addition it is easy to obtain the dimension of a given irrep or its conjugated irrep. Finally, one can obtain the invariants of the products of 2, 3 and 4 irreps (not implemented yet/easy). We now describe the above possibilities in more details and examplify the use of the library.\n",
    "\n",
    "## II General Structure\n",
    "\n",
    "`PyLie` is composed of three classes:\n",
    "* __CartanMatrix__: _represents a cartan matrix of any of the Lie algebra. Contains all the algorithm to construct the matrices._\n",
    "* __LieAlgebra__: _this is the central class that implements the various actions that can be taken on a Lie algebra. In particular it implements the `invariants`, `dimR`, `conjugateIrrep` and `casimir` functions among others [see section](###III.II-List-Methods-LieAlgebra)_\n",
    "* __Permutation__: _this class will implement all the relevant operations on the permutation group $S_n$. As of now, it only contains the implementation of the `hookContentFormula`._\n",
    "\n",
    "For the implementation we rely on the _NumPy_ arrays, the __Sympy__ matrices and sparse matrices as well as the irrational numbers and for the algebraic operations; in particular for the solve\\_linear\\_systems routine used to find the `invariants` method.\n",
    "\n",
    "## III List of the Methods and use\n",
    "This section details all the methods implemented in each one of the classe.\n",
    "\n",
    "### III.I List Methods CartanMatrix\n",
    "\n",
    "#### constructor\n",
    "* __\\_\\_init\\_\\_(self, name, Id)__: constructor; takes the name of the desired Lie algebra either in terms of classical Lie algebra $A$, $B$, $C$, $D$ or directly $\\mathrm{SU}$, $\\mathrm{SO}$ or $\\mathrm{SP}$. Id should be the corresponding index e.g. $(\\mathrm{SU},n)$ or $(A,n-1)$.\n",
    "\n",
    "#### Attibutes\n",
    "* __self.\\_name__: the name of the algebra\n",
    "* __self.\\_id__: the id of the algebra\n",
    "* __self.cartan__: contains the cartan matrix of the algebra. \n",
    "\n",
    "#### Public Methods\n",
    "\n",
    "There is no public method in this class, i.e. the user is not supposed to do anything else that initialize a given Lie algebra.\n",
    "\n",
    "#### Private Methods\n",
    "\n",
    "* __\\_constructCartanMatrix\\___: construct the Cartan matrix of the corresponding algebra. The caran matrix is then stored in the attribute __cartan__.\n",
    "* __\\_fillUpFunctionA\\___: basics construction function for the $A$ algebra\n",
    "* __\\_fillUpFunctionB\\___: basics construction function for the $B$ algebra\n",
    "* __\\_fillUpFunctionC\\___: basics construction function for the $C$ algebra\n",
    "* __\\_fillUpFunctionD\\___: basics construction function for the $D$ algebra\n",
    "\n",
    "### III.II List  Methods LieAlgebra\n",
    "\n",
    "#### constructor\n",
    "\n",
    "* __\\_\\_init(self,cartanMatrix)\\_\\___: construct the LieAlgebra object from a `CartanMatrix` one. E.g.  `SU2 = LieAlgebra(Cartan(\"SU\",2))`.\n",
    "\n",
    "#### Attributes\n",
    "\n",
    "* __self.cartan__: contains the Cartan matrix object.\n",
    "* __self.cm__: contains the Cartan matrix.\n",
    "* __self.ncm__: contains the Cartan matrix in numpy form for manipulation.\n",
    "* __self.proots__: contains the positive roots.\n",
    "* __self.adjoint__: contains the adjoint representations.\n",
    "\n",
    "#### Public Methods\n",
    "\n",
    "* __casimir(irrep)__: returns the quadratic casimir of the corresponding irrep\n",
    "* __dimR(irrep)__: returns the dimension of the corresponding irrep\n",
    "* __repsUpToDimN(maxdim)__: returns all the irrep with dimension lower or equal to `maxdim`\n",
    "* __conjugateIrrep(irrep)__: returns the conjugated irrep\n",
    "* __repMinimalMatrices(maxW)__: \n",
    "\n",
    "    1.  The output of this function is a list of sets of 3 matrices:\n",
    "    $$\\{\\{E_1, F_1, H_1\\}, \\{E_2, F_2, H_2\\},...,\\{E_n, F_n, H_n\\}\\}\\, ,$$ where n is the group's rank. $H_i$ are diagonal matrices, while $E_i$ and $F_i$ are raising and lowering operators. These matrices obey the Chevalley-Serre relations: $[E_i,\\ E_j] = \\delta_{ij} H_i,\\ [H_i,\\ E_j]= A_{ji}E_j,\\ [H_i,\\ F_j]= -A_{ji}F_j$ and $[H_i,\\ H_j]=0$. Here, A is the Cartan matrix of the group/algebra.\n",
    "    \n",
    "    2. With the exception of $\\mathrm{SU}(2)$ (n=1), these 3n matrices $E_i,\\ F_i,\\ H_i$ do not generate the Lie algebra, which is bigger, as some raising and lowering operators are missing. However, these remaining operators can be obtained through simple commutations: $[E_i,\\ E_j],\\ [E_i,\\ [E_j,\\ E_k]],\\dots,[F_i,\\ F_j],\\ [F_i,\\ [F_j,F_k]]$.\n",
    "    \n",
    "    3. This method clearly must assume a particular basis for each representation so the results are basis dependent.\n",
    "    \n",
    "    4. Also, unlike repMatrices, the matrices given by this function are not Hermitian and therefore they do not conform with the usual requirements of model building in particle physics. However, for some applications, they might be all that is needed.\n",
    "* __invariants(reps, conj=[])__: returns the all invariants that can be formed with reps.\n",
    "* __repMatrices(maxW)__: this method returns the complete set of matrices that make up a representation, with the correct casimir and trace normalizations:\n",
    "    \n",
    "    1. The matrices $\\{M_i\\}$ given by this method are in conformity with the usual requirements in particle physics: \n",
    "        * $M_a^\\dagger = M_a$\n",
    "        * $Tr(M_a M_b = S(rep)\\delta_{ab}$\n",
    "        * Sum_a M_a M_a = C(rep)\n",
    "#### Private Methods\n",
    "\n",
    "__TODO__\n",
    "\n",
    "### III.III List Methods Permutation\n",
    "\n",
    "#### Constructor\n",
    "\n",
    "* __\\_\\_init(self)\\_\\___: creates a $S_n$ permutation group object\n",
    "\n",
    "#### Private Methods\n",
    "\n",
    "There is no private methods implemented at the moment\n",
    "\n",
    "#### Public Methods\n",
    "\n",
    "* __hookContentFormula__: returns the Hook content formula. \n",
    "    1. Applies the Hook Content Formula to a semi-standard Young tableau with cells filled with the numbers $0,\\dots,n$ (repetitions are allowed) - see reference below.\n",
    "    2. Recall that a partition $\\{\\lambda_1,\\ \\lambda_2, \\dots\\}$ is associated with a Young tableau where row i contains $\\lambda_i$ cells - for example the partition {4,3,1,1} of 9 yields the tableau with 4, 3, 1 and 1 boxes on top of each other.\n",
    "    3. In a semi-standard Young tableau, the $x_i$ which fill it must increase from top to bottom and must not decrease from left to right.\n",
    "    4. The number of semi-standard Young tableau given by the partition $\\lambda$, where the cell can have any positive integer value smaller or equal to $n$ is given by `hookContentFormula(Lambda, n)`.\n",
    "    5. The application in model building of this is the following: consider a parameter $M_{f_1,f_2},\\ \\dots$ where the $f_i =1,\\dots,n$ are flavor indices. If $\\mu$ is known to have some symmetry (given by a partition $\\lambda$) under a permutation of these indices, then the number of degrees of freedom in $\\mu$ is given by  `hookContentFormula(Lambda, n)` (see examples below).\n",
    "    \n",
    "## IV Examples\n",
    "\n",
    "We now turn our attention to the practical use of the library. Note that it is be written with `Sympy0.7.6` which is different from the version used in `PyR@TE`, i.e. it will require some extra work to make `PyR@TE` compatible with this version of `Sympy` before being able to use it."
   ]
  },
  {
   "cell_type": "markdown",
   "metadata": {},
   "source": [
    "Let's load `PyLie`"
   ]
  },
  {
   "cell_type": "markdown",
   "metadata": {},
   "source": [
    "### IV.I Imports"
   ]
  },
  {
   "cell_type": "code",
   "execution_count": 1,
   "metadata": {
    "collapsed": false
   },
   "outputs": [],
   "source": [
    "import sys\n",
    "sys.path.insert(0,'/Applications/HEPtools/sympy-0.7.6.1/')\n",
    "from sympy import *\n",
    "from PyLie import CartanMatrix, LieAlgebra, Permutation\n",
    "import operator"
   ]
  },
  {
   "cell_type": "code",
   "execution_count": 2,
   "metadata": {
    "collapsed": true
   },
   "outputs": [],
   "source": [
    "init_printing(use_latex=True)"
   ]
  },
  {
   "cell_type": "markdown",
   "metadata": {},
   "source": [
    "### IV.I Retrieving information on Lie Algebras"
   ]
  },
  {
   "cell_type": "markdown",
   "metadata": {},
   "source": [
    "Let's start by creating different Cartan matrix and re-assure ourselves that we have the known matrices"
   ]
  },
  {
   "cell_type": "code",
   "execution_count": 3,
   "metadata": {
    "collapsed": false
   },
   "outputs": [],
   "source": [
    "SU2C,SU3C,SU4C,SU5C = CartanMatrix(\"SU\", 2), CartanMatrix(\"SU\", 3), CartanMatrix(\"SU\", 4), CartanMatrix(\"SU\", 5)\n",
    "SO10C = CartanMatrix(\"SO\", 10)"
   ]
  },
  {
   "cell_type": "code",
   "execution_count": 4,
   "metadata": {
    "collapsed": false
   },
   "outputs": [
    {
     "data": {
      "image/png": "[encoded data removed]",
      "text/latex": [
       "$$\\left ( \\left[\\begin{matrix}2 & -1 & 0 & 0 & 0\\\\-1 & 2 & -1 & 0 & 0\\\\0 & -1 & 2 & -1 & -1\\\\0 & 0 & -1 & 2 & 0\\\\0 & 0 & -1 & 0 & 2\\end{matrix}\\right], \\quad \\left[\\begin{matrix}2\\end{matrix}\\right], \\quad \\left[\\begin{matrix}2 & -1\\\\-1 & 2\\end{matrix}\\right], \\quad \\left[\\begin{matrix}2 & -1 & 0\\\\-1 & 2 & -1\\\\0 & -1 & 2\\end{matrix}\\right], \\quad \\left[\\begin{matrix}2 & -1 & 0 & 0\\\\-1 & 2 & -1 & 0\\\\0 & -1 & 2 & -1\\\\0 & 0 & -1 & 2\\end{matrix}\\right]\\right )$$"
      ],
      "text/plain": [
       "⎛⎡2   -1  0   0   0 ⎤, [2], ⎡2   -1⎤, ⎡2   -1  0 ⎤, ⎡2   -1  0   0 ⎤⎞\n",
       "⎜⎢                  ⎥       ⎢      ⎥  ⎢          ⎥  ⎢              ⎥⎟\n",
       "⎜⎢-1  2   -1  0   0 ⎥       ⎣-1  2 ⎦  ⎢-1  2   -1⎥  ⎢-1  2   -1  0 ⎥⎟\n",
       "⎜⎢                  ⎥                 ⎢          ⎥  ⎢              ⎥⎟\n",
       "⎜⎢0   -1  2   -1  -1⎥                 ⎣0   -1  2 ⎦  ⎢0   -1  2   -1⎥⎟\n",
       "⎜⎢                  ⎥                               ⎢              ⎥⎟\n",
       "⎜⎢0   0   -1  2   0 ⎥                               ⎣0   0   -1  2 ⎦⎟\n",
       "⎜⎢                  ⎥                                               ⎟\n",
       "⎝⎣0   0   -1  0   2 ⎦                                               ⎠"
      ]
     },
     "execution_count": 4,
     "metadata": {},
     "output_type": "execute_result"
    }
   ],
   "source": [
    "SO10C.cartan,SU2C.cartan,SU3C.cartan,SU4C.cartan,SU5C.cartan"
   ]
  },
  {
   "cell_type": "markdown",
   "metadata": {
    "collapsed": true
   },
   "source": [
    "We can now construct the corresponding Lie algebra"
   ]
  },
  {
   "cell_type": "code",
   "execution_count": 5,
   "metadata": {
    "collapsed": true
   },
   "outputs": [],
   "source": [
    "SO10,SU2,SU3,SU4,SU5 = map(LieAlgebra, [SO10C,SU2C,SU3C,SU4C,SU5C])"
   ]
  },
  {
   "cell_type": "markdown",
   "metadata": {},
   "source": [
    "Let's start by looking at the positive roots of SO10 and SU3:"
   ]
  },
  {
   "cell_type": "code",
   "execution_count": 6,
   "metadata": {
    "collapsed": false
   },
   "outputs": [
    {
     "data": {
      "text/plain": [
       "array([[2, -1, 0, 0, 0],\n",
       "       [-1, 2, -1, 0, 0],\n",
       "       [0, -1, 2, -1, -1],\n",
       "       [0, 0, -1, 2, 0],\n",
       "       [0, 0, -1, 0, 2],\n",
       "       [1, 1, -1, 0, 0],\n",
       "       [-1, 1, 1, -1, -1],\n",
       "       [0, -1, 1, 1, -1],\n",
       "       [0, -1, 1, -1, 1],\n",
       "       [1, 0, 1, -1, -1],\n",
       "       [-1, 1, 0, 1, -1],\n",
       "       [-1, 1, 0, -1, 1],\n",
       "       [0, -1, 0, 1, 1],\n",
       "       [1, 0, 0, 1, -1],\n",
       "       [1, 0, 0, -1, 1],\n",
       "       [-1, 1, -1, 1, 1],\n",
       "       [1, 0, -1, 1, 1],\n",
       "       [-1, 0, 1, 0, 0],\n",
       "       [1, -1, 1, 0, 0],\n",
       "       [0, 1, 0, 0, 0]], dtype=object)"
      ]
     },
     "execution_count": 6,
     "metadata": {},
     "output_type": "execute_result"
    }
   ],
   "source": [
    "SO10.proots"
   ]
  },
  {
   "cell_type": "code",
   "execution_count": 7,
   "metadata": {
    "collapsed": false
   },
   "outputs": [
    {
     "data": {
      "text/plain": [
       "array([[2, -1],\n",
       "       [-1, 2],\n",
       "       [1, 1]], dtype=object)"
      ]
     },
     "execution_count": 7,
     "metadata": {},
     "output_type": "execute_result"
    }
   ],
   "source": [
    "SU3.proots"
   ]
  },
  {
   "cell_type": "markdown",
   "metadata": {},
   "source": [
    "### IV.III Calculating with irreps\n",
    "Let's look at the different methods to manipulate the irreps\n",
    "#### Reprensation matrices\n",
    "* We can start by $\\mathrm{SU}(5)$ matrices; note that the result of `repMinimalMatrices` is a list of three matrices $E,F,H$, [see List Methods LieAlgebra](#List-Methods-LieAlgebra)"
   ]
  },
  {
   "cell_type": "code",
   "execution_count": 8,
   "metadata": {
    "collapsed": false
   },
   "outputs": [
    {
     "data": {
      "image/png": "[encoded data removed]",
      "text/latex": [
       "$$\\left [ \\left [ \\left[\\begin{matrix}0 & 1 & 0 & 0 & 0\\\\0 & 0 & 0 & 0 & 0\\\\0 & 0 & 0 & 0 & 0\\\\0 & 0 & 0 & 0 & 0\\\\0 & 0 & 0 & 0 & 0\\end{matrix}\\right], \\quad \\left[\\begin{matrix}0 & 0 & 0 & 0 & 0\\\\1 & 0 & 0 & 0 & 0\\\\0 & 0 & 0 & 0 & 0\\\\0 & 0 & 0 & 0 & 0\\\\0 & 0 & 0 & 0 & 0\\end{matrix}\\right], \\quad \\left[\\begin{matrix}1 & 0 & 0 & 0 & 0\\\\0 & -1 & 0 & 0 & 0\\\\0 & 0 & 0 & 0 & 0\\\\0 & 0 & 0 & 0 & 0\\\\0 & 0 & 0 & 0 & 0\\end{matrix}\\right]\\right ], \\quad \\left [ \\left[\\begin{matrix}0 & 0 & 0 & 0 & 0\\\\0 & 0 & 1 & 0 & 0\\\\0 & 0 & 0 & 0 & 0\\\\0 & 0 & 0 & 0 & 0\\\\0 & 0 & 0 & 0 & 0\\end{matrix}\\right], \\quad \\left[\\begin{matrix}0 & 0 & 0 & 0 & 0\\\\0 & 0 & 0 & 0 & 0\\\\0 & 1 & 0 & 0 & 0\\\\0 & 0 & 0 & 0 & 0\\\\0 & 0 & 0 & 0 & 0\\end{matrix}\\right], \\quad \\left[\\begin{matrix}0 & 0 & 0 & 0 & 0\\\\0 & 1 & 0 & 0 & 0\\\\0 & 0 & -1 & 0 & 0\\\\0 & 0 & 0 & 0 & 0\\\\0 & 0 & 0 & 0 & 0\\end{matrix}\\right]\\right ], \\quad \\left [ \\left[\\begin{matrix}0 & 0 & 0 & 0 & 0\\\\0 & 0 & 0 & 0 & 0\\\\0 & 0 & 0 & 1 & 0\\\\0 & 0 & 0 & 0 & 0\\\\0 & 0 & 0 & 0 & 0\\end{matrix}\\right], \\quad \\left[\\begin{matrix}0 & 0 & 0 & 0 & 0\\\\0 & 0 & 0 & 0 & 0\\\\0 & 0 & 0 & 0 & 0\\\\0 & 0 & 1 & 0 & 0\\\\0 & 0 & 0 & 0 & 0\\end{matrix}\\right], \\quad \\left[\\begin{matrix}0 & 0 & 0 & 0 & 0\\\\0 & 0 & 0 & 0 & 0\\\\0 & 0 & 1 & 0 & 0\\\\0 & 0 & 0 & -1 & 0\\\\0 & 0 & 0 & 0 & 0\\end{matrix}\\right]\\right ], \\quad \\left [ \\left[\\begin{matrix}0 & 0 & 0 & 0 & 0\\\\0 & 0 & 0 & 0 & 0\\\\0 & 0 & 0 & 0 & 0\\\\0 & 0 & 0 & 0 & 1\\\\0 & 0 & 0 & 0 & 0\\end{matrix}\\right], \\quad \\left[\\begin{matrix}0 & 0 & 0 & 0 & 0\\\\0 & 0 & 0 & 0 & 0\\\\0 & 0 & 0 & 0 & 0\\\\0 & 0 & 0 & 0 & 0\\\\0 & 0 & 0 & 1 & 0\\end{matrix}\\right], \\quad \\left[\\begin{matrix}0 & 0 & 0 & 0 & 0\\\\0 & 0 & 0 & 0 & 0\\\\0 & 0 & 0 & 0 & 0\\\\0 & 0 & 0 & 1 & 0\\\\0 & 0 & 0 & 0 & -1\\end{matrix}\\right]\\right ]\\right ]$$"
      ],
      "text/plain": [
       "⎡⎡⎡0  1  0  0  0⎤, ⎡0  0  0  0  0⎤, ⎡1  0   0  0  0⎤⎤, ⎡⎡0  0  0  0  0⎤, ⎡0  0\n",
       "⎢⎢⎢             ⎥  ⎢             ⎥  ⎢              ⎥⎥  ⎢⎢             ⎥  ⎢    \n",
       "⎢⎢⎢0  0  0  0  0⎥  ⎢1  0  0  0  0⎥  ⎢0  -1  0  0  0⎥⎥  ⎢⎢0  0  1  0  0⎥  ⎢0  0\n",
       "⎢⎢⎢             ⎥  ⎢             ⎥  ⎢              ⎥⎥  ⎢⎢             ⎥  ⎢    \n",
       "⎢⎢⎢0  0  0  0  0⎥  ⎢0  0  0  0  0⎥  ⎢0  0   0  0  0⎥⎥  ⎢⎢0  0  0  0  0⎥  ⎢0  1\n",
       "⎢⎢⎢             ⎥  ⎢             ⎥  ⎢              ⎥⎥  ⎢⎢             ⎥  ⎢    \n",
       "⎢⎢⎢0  0  0  0  0⎥  ⎢0  0  0  0  0⎥  ⎢0  0   0  0  0⎥⎥  ⎢⎢0  0  0  0  0⎥  ⎢0  0\n",
       "⎢⎢⎢             ⎥  ⎢             ⎥  ⎢              ⎥⎥  ⎢⎢             ⎥  ⎢    \n",
       "⎣⎣⎣0  0  0  0  0⎦  ⎣0  0  0  0  0⎦  ⎣0  0   0  0  0⎦⎦  ⎣⎣0  0  0  0  0⎦  ⎣0  0\n",
       "\n",
       "  0  0  0⎤, ⎡0  0  0   0  0⎤⎤, ⎡⎡0  0  0  0  0⎤, ⎡0  0  0  0  0⎤, ⎡0  0  0  0 \n",
       "         ⎥  ⎢              ⎥⎥  ⎢⎢             ⎥  ⎢             ⎥  ⎢           \n",
       "  0  0  0⎥  ⎢0  1  0   0  0⎥⎥  ⎢⎢0  0  0  0  0⎥  ⎢0  0  0  0  0⎥  ⎢0  0  0  0 \n",
       "         ⎥  ⎢              ⎥⎥  ⎢⎢             ⎥  ⎢             ⎥  ⎢           \n",
       "  0  0  0⎥  ⎢0  0  -1  0  0⎥⎥  ⎢⎢0  0  0  1  0⎥  ⎢0  0  0  0  0⎥  ⎢0  0  1  0 \n",
       "         ⎥  ⎢              ⎥⎥  ⎢⎢             ⎥  ⎢             ⎥  ⎢           \n",
       "  0  0  0⎥  ⎢0  0  0   0  0⎥⎥  ⎢⎢0  0  0  0  0⎥  ⎢0  0  1  0  0⎥  ⎢0  0  0  -1\n",
       "         ⎥  ⎢              ⎥⎥  ⎢⎢             ⎥  ⎢             ⎥  ⎢           \n",
       "  0  0  0⎦  ⎣0  0  0   0  0⎦⎦  ⎣⎣0  0  0  0  0⎦  ⎣0  0  0  0  0⎦  ⎣0  0  0  0 \n",
       "\n",
       "  0⎤⎤, ⎡⎡0  0  0  0  0⎤, ⎡0  0  0  0  0⎤, ⎡0  0  0  0  0 ⎤⎤⎤\n",
       "   ⎥⎥  ⎢⎢             ⎥  ⎢             ⎥  ⎢              ⎥⎥⎥\n",
       "  0⎥⎥  ⎢⎢0  0  0  0  0⎥  ⎢0  0  0  0  0⎥  ⎢0  0  0  0  0 ⎥⎥⎥\n",
       "   ⎥⎥  ⎢⎢             ⎥  ⎢             ⎥  ⎢              ⎥⎥⎥\n",
       "  0⎥⎥  ⎢⎢0  0  0  0  0⎥  ⎢0  0  0  0  0⎥  ⎢0  0  0  0  0 ⎥⎥⎥\n",
       "   ⎥⎥  ⎢⎢             ⎥  ⎢             ⎥  ⎢              ⎥⎥⎥\n",
       "  0⎥⎥  ⎢⎢0  0  0  0  1⎥  ⎢0  0  0  0  0⎥  ⎢0  0  0  1  0 ⎥⎥⎥\n",
       "   ⎥⎥  ⎢⎢             ⎥  ⎢             ⎥  ⎢              ⎥⎥⎥\n",
       "  0⎦⎦  ⎣⎣0  0  0  0  0⎦  ⎣0  0  0  1  0⎦  ⎣0  0  0  0  -1⎦⎦⎦"
      ]
     },
     "execution_count": 8,
     "metadata": {},
     "output_type": "execute_result"
    }
   ],
   "source": [
    "SU5.repMinimalMatrices([1,0,0,0])"
   ]
  },
  {
   "cell_type": "markdown",
   "metadata": {},
   "source": [
    "Of course we can also get the regular representation matrices"
   ]
  },
  {
   "cell_type": "code",
   "execution_count": 9,
   "metadata": {
    "collapsed": false
   },
   "outputs": [
    {
     "data": {
      "image/png": "[encoded data removed]",
      "text/latex": [
       "$$\\left [ \\left [ \\left[\\begin{matrix}0 & \\frac{1}{2} & 0 & 0 & 0\\\\\\frac{1}{2} & 0 & 0 & 0 & 0\\\\0 & 0 & 0 & 0 & 0\\\\0 & 0 & 0 & 0 & 0\\\\0 & 0 & 0 & 0 & 0\\end{matrix}\\right], \\quad \\left[\\begin{matrix}0 & 0 & 0 & 0 & 0\\\\0 & 0 & \\frac{1}{2} & 0 & 0\\\\0 & \\frac{1}{2} & 0 & 0 & 0\\\\0 & 0 & 0 & 0 & 0\\\\0 & 0 & 0 & 0 & 0\\end{matrix}\\right], \\quad \\left[\\begin{matrix}0 & 0 & 0 & 0 & 0\\\\0 & 0 & 0 & 0 & 0\\\\0 & 0 & 0 & \\frac{1}{2} & 0\\\\0 & 0 & \\frac{1}{2} & 0 & 0\\\\0 & 0 & 0 & 0 & 0\\end{matrix}\\right], \\quad \\left[\\begin{matrix}0 & 0 & 0 & 0 & 0\\\\0 & 0 & 0 & 0 & 0\\\\0 & 0 & 0 & 0 & 0\\\\0 & 0 & 0 & 0 & \\frac{1}{2}\\\\0 & 0 & 0 & \\frac{1}{2} & 0\\end{matrix}\\right], \\quad \\left[\\begin{matrix}0 & 0 & \\frac{i}{2} & 0 & 0\\\\0 & 0 & 0 & 0 & 0\\\\- \\frac{i}{2} & 0 & 0 & 0 & 0\\\\0 & 0 & 0 & 0 & 0\\\\0 & 0 & 0 & 0 & 0\\end{matrix}\\right], \\quad \\left[\\begin{matrix}0 & 0 & 0 & 0 & 0\\\\0 & 0 & 0 & \\frac{i}{2} & 0\\\\0 & 0 & 0 & 0 & 0\\\\0 & - \\frac{i}{2} & 0 & 0 & 0\\\\0 & 0 & 0 & 0 & 0\\end{matrix}\\right], \\quad \\left[\\begin{matrix}0 & 0 & 0 & 0 & 0\\\\0 & 0 & 0 & 0 & 0\\\\0 & 0 & 0 & 0 & \\frac{i}{2}\\\\0 & 0 & 0 & 0 & 0\\\\0 & 0 & - \\frac{i}{2} & 0 & 0\\end{matrix}\\right], \\quad \\left[\\begin{matrix}0 & 0 & 0 & \\frac{1}{2} & 0\\\\0 & 0 & 0 & 0 & 0\\\\0 & 0 & 0 & 0 & 0\\\\\\frac{1}{2} & 0 & 0 & 0 & 0\\\\0 & 0 & 0 & 0 & 0\\end{matrix}\\right], \\quad \\left[\\begin{matrix}0 & 0 & 0 & 0 & 0\\\\0 & 0 & 0 & 0 & \\frac{1}{2}\\\\0 & 0 & 0 & 0 & 0\\\\0 & 0 & 0 & 0 & 0\\\\0 & \\frac{1}{2} & 0 & 0 & 0\\end{matrix}\\right], \\quad \\left[\\begin{matrix}0 & 0 & 0 & 0 & \\frac{i}{2}\\\\0 & 0 & 0 & 0 & 0\\\\0 & 0 & 0 & 0 & 0\\\\0 & 0 & 0 & 0 & 0\\\\- \\frac{i}{2} & 0 & 0 & 0 & 0\\end{matrix}\\right]\\right ], \\quad \\left [ \\left[\\begin{matrix}0 & - \\frac{i}{2} & 0 & 0 & 0\\\\\\frac{i}{2} & 0 & 0 & 0 & 0\\\\0 & 0 & 0 & 0 & 0\\\\0 & 0 & 0 & 0 & 0\\\\0 & 0 & 0 & 0 & 0\\end{matrix}\\right], \\quad \\left[\\begin{matrix}0 & 0 & 0 & 0 & 0\\\\0 & 0 & - \\frac{i}{2} & 0 & 0\\\\0 & \\frac{i}{2} & 0 & 0 & 0\\\\0 & 0 & 0 & 0 & 0\\\\0 & 0 & 0 & 0 & 0\\end{matrix}\\right], \\quad \\left[\\begin{matrix}0 & 0 & 0 & 0 & 0\\\\0 & 0 & 0 & 0 & 0\\\\0 & 0 & 0 & - \\frac{i}{2} & 0\\\\0 & 0 & \\frac{i}{2} & 0 & 0\\\\0 & 0 & 0 & 0 & 0\\end{matrix}\\right], \\quad \\left[\\begin{matrix}0 & 0 & 0 & 0 & 0\\\\0 & 0 & 0 & 0 & 0\\\\0 & 0 & 0 & 0 & 0\\\\0 & 0 & 0 & 0 & - \\frac{i}{2}\\\\0 & 0 & 0 & \\frac{i}{2} & 0\\end{matrix}\\right], \\quad \\left[\\begin{matrix}0 & 0 & - \\frac{1}{2} & 0 & 0\\\\0 & 0 & 0 & 0 & 0\\\\- \\frac{1}{2} & 0 & 0 & 0 & 0\\\\0 & 0 & 0 & 0 & 0\\\\0 & 0 & 0 & 0 & 0\\end{matrix}\\right], \\quad \\left[\\begin{matrix}0 & 0 & 0 & 0 & 0\\\\0 & 0 & 0 & - \\frac{1}{2} & 0\\\\0 & 0 & 0 & 0 & 0\\\\0 & - \\frac{1}{2} & 0 & 0 & 0\\\\0 & 0 & 0 & 0 & 0\\end{matrix}\\right], \\quad \\left[\\begin{matrix}0 & 0 & 0 & 0 & 0\\\\0 & 0 & 0 & 0 & 0\\\\0 & 0 & 0 & 0 & - \\frac{1}{2}\\\\0 & 0 & 0 & 0 & 0\\\\0 & 0 & - \\frac{1}{2} & 0 & 0\\end{matrix}\\right], \\quad \\left[\\begin{matrix}0 & 0 & 0 & - \\frac{i}{2} & 0\\\\0 & 0 & 0 & 0 & 0\\\\0 & 0 & 0 & 0 & 0\\\\\\frac{i}{2} & 0 & 0 & 0 & 0\\\\0 & 0 & 0 & 0 & 0\\end{matrix}\\right], \\quad \\left[\\begin{matrix}0 & 0 & 0 & 0 & 0\\\\0 & 0 & 0 & 0 & - \\frac{i}{2}\\\\0 & 0 & 0 & 0 & 0\\\\0 & 0 & 0 & 0 & 0\\\\0 & \\frac{i}{2} & 0 & 0 & 0\\end{matrix}\\right], \\quad \\left[\\begin{matrix}0 & 0 & 0 & 0 & - \\frac{1}{2}\\\\0 & 0 & 0 & 0 & 0\\\\0 & 0 & 0 & 0 & 0\\\\0 & 0 & 0 & 0 & 0\\\\- \\frac{1}{2} & 0 & 0 & 0 & 0\\end{matrix}\\right]\\right ], \\quad \\left [ \\left[\\begin{matrix}\\frac{\\sqrt{10}}{5} & 0 & 0 & 0 & 0\\\\0 & - \\frac{\\sqrt{10}}{20} & 0 & 0 & 0\\\\0 & 0 & - \\frac{\\sqrt{10}}{20} & 0 & 0\\\\0 & 0 & 0 & - \\frac{\\sqrt{10}}{20} & 0\\\\0 & 0 & 0 & 0 & - \\frac{\\sqrt{10}}{20}\\end{matrix}\\right], \\quad \\left[\\begin{matrix}0 & 0 & 0 & 0 & 0\\\\0 & \\frac{\\sqrt{6}}{4} & 0 & 0 & 0\\\\0 & 0 & - \\frac{\\sqrt{6}}{12} & 0 & 0\\\\0 & 0 & 0 & - \\frac{\\sqrt{6}}{12} & 0\\\\0 & 0 & 0 & 0 & - \\frac{\\sqrt{6}}{12}\\end{matrix}\\right], \\quad \\left[\\begin{matrix}0 & 0 & 0 & 0 & 0\\\\0 & 0 & 0 & 0 & 0\\\\0 & 0 & \\frac{\\sqrt{3}}{3} & 0 & 0\\\\0 & 0 & 0 & - \\frac{\\sqrt{3}}{6} & 0\\\\0 & 0 & 0 & 0 & - \\frac{\\sqrt{3}}{6}\\end{matrix}\\right], \\quad \\left[\\begin{matrix}0 & 0 & 0 & 0 & 0\\\\0 & 0 & 0 & 0 & 0\\\\0 & 0 & 0 & 0 & 0\\\\0 & 0 & 0 & \\frac{1}{2} & 0\\\\0 & 0 & 0 & 0 & - \\frac{1}{2}\\end{matrix}\\right]\\right ]\\right ]$$"
      ],
      "text/plain": [
       "⎡                                                                             \n",
       "⎢⎡                                                                            \n",
       "⎢⎢⎡ 0   1/2  0  0  0⎤, ⎡0   0    0   0  0⎤, ⎡0  0   0    0   0⎤, ⎡0  0  0   0 \n",
       "⎢⎢⎢                 ⎥  ⎢                 ⎥  ⎢                 ⎥  ⎢            \n",
       "⎢⎢⎢1/2   0   0  0  0⎥  ⎢0   0   1/2  0  0⎥  ⎢0  0   0    0   0⎥  ⎢0  0  0   0 \n",
       "⎢⎢⎢                 ⎥  ⎢                 ⎥  ⎢                 ⎥  ⎢            \n",
       "⎢⎢⎢ 0    0   0  0  0⎥  ⎢0  1/2   0   0  0⎥  ⎢0  0   0   1/2  0⎥  ⎢0  0  0   0 \n",
       "⎢⎢⎢                 ⎥  ⎢                 ⎥  ⎢                 ⎥  ⎢            \n",
       "⎢⎢⎢ 0    0   0  0  0⎥  ⎢0   0    0   0  0⎥  ⎢0  0  1/2   0   0⎥  ⎢0  0  0   0 \n",
       "⎢⎢⎢                 ⎥  ⎢                 ⎥  ⎢                 ⎥  ⎢            \n",
       "⎢⎢⎣ 0    0   0  0  0⎦  ⎣0   0    0   0  0⎦  ⎣0  0   0    0   0⎦  ⎣0  0  0  1/2\n",
       "⎢⎢                                                                            \n",
       "⎢⎢                                                                            \n",
       "⎢⎢                                                                            \n",
       "⎢⎣                                                                            \n",
       "⎢                                                                             \n",
       "⎢                                                                             \n",
       "⎢                                                                             \n",
       "⎢                                                                             \n",
       "⎢                                                                             \n",
       "⎢                                                                             \n",
       "⎢                                                                             \n",
       "⎢                                                                             \n",
       "⎣                                                                             \n",
       "\n",
       "                                                                              \n",
       "        ⎡        ⅈ      ⎤                                                     \n",
       "   0 ⎤, ⎢ 0   0  ─  0  0⎥, ⎡0   0   0  0  0⎤, ⎡0  0   0   0  0⎤, ⎡ 0   0  0  1\n",
       "     ⎥  ⎢        2      ⎥  ⎢               ⎥  ⎢               ⎥  ⎢            \n",
       "   0 ⎥  ⎢               ⎥  ⎢           ⅈ   ⎥  ⎢0  0   0   0  0⎥  ⎢ 0   0  0   \n",
       "     ⎥  ⎢ 0   0  0  0  0⎥  ⎢0   0   0  ─  0⎥  ⎢               ⎥  ⎢            \n",
       "   0 ⎥  ⎢               ⎥  ⎢           2   ⎥  ⎢              ⅈ⎥  ⎢ 0   0  0   \n",
       "     ⎥  ⎢-ⅈ             ⎥  ⎢               ⎥  ⎢0  0   0   0  ─⎥  ⎢            \n",
       "  1/2⎥  ⎢───  0  0  0  0⎥  ⎢0   0   0  0  0⎥  ⎢              2⎥  ⎢1/2  0  0   \n",
       "     ⎥  ⎢ 2             ⎥  ⎢               ⎥  ⎢               ⎥  ⎢            \n",
       "   0 ⎦  ⎢               ⎥  ⎢   -ⅈ          ⎥  ⎢0  0   0   0  0⎥  ⎣ 0   0  0   \n",
       "        ⎢ 0   0  0  0  0⎥  ⎢0  ───  0  0  0⎥  ⎢               ⎥               \n",
       "        ⎢               ⎥  ⎢    2          ⎥  ⎢      -ⅈ       ⎥               \n",
       "        ⎣ 0   0  0  0  0⎦  ⎢               ⎥  ⎢0  0  ───  0  0⎥               \n",
       "                           ⎣0   0   0  0  0⎦  ⎣       2       ⎦               \n",
       "                                                                              \n",
       "                                                                              \n",
       "                                                                              \n",
       "                                                                              \n",
       "                                                                              \n",
       "                                                                              \n",
       "                                                                              \n",
       "                                                                              \n",
       "                                                                              \n",
       "\n",
       "                                                                              \n",
       "                             ⎡              ⅈ⎤⎤  ⎡⎡   -ⅈ          ⎤           \n",
       "/2  0⎤, ⎡0   0   0  0   0 ⎤, ⎢ 0   0  0  0  ─⎥⎥, ⎢⎢0  ───  0  0  0⎥, ⎡0  0   0\n",
       "     ⎥  ⎢                 ⎥  ⎢              2⎥⎥  ⎢⎢    2          ⎥  ⎢        \n",
       "0   0⎥  ⎢0   0   0  0  1/2⎥  ⎢               ⎥⎥  ⎢⎢               ⎥  ⎢      -ⅈ\n",
       "     ⎥  ⎢                 ⎥  ⎢ 0   0  0  0  0⎥⎥  ⎢⎢ⅈ              ⎥  ⎢0  0  ──\n",
       "0   0⎥  ⎢0   0   0  0   0 ⎥  ⎢               ⎥⎥  ⎢⎢─   0   0  0  0⎥  ⎢       2\n",
       "     ⎥  ⎢                 ⎥  ⎢ 0   0  0  0  0⎥⎥  ⎢⎢2              ⎥  ⎢        \n",
       "0   0⎥  ⎢0   0   0  0   0 ⎥  ⎢               ⎥⎥  ⎢⎢               ⎥  ⎢   ⅈ    \n",
       "     ⎥  ⎢                 ⎥  ⎢ 0   0  0  0  0⎥⎥  ⎢⎢0   0   0  0  0⎥  ⎢0  ─   0\n",
       "0   0⎦  ⎣0  1/2  0  0   0 ⎦  ⎢               ⎥⎥  ⎢⎢               ⎥  ⎢   2    \n",
       "                             ⎢-ⅈ             ⎥⎥  ⎢⎢0   0   0  0  0⎥  ⎢        \n",
       "                             ⎢───  0  0  0  0⎥⎥  ⎢⎢               ⎥  ⎢0  0   0\n",
       "                             ⎣ 2             ⎦⎥  ⎢⎣0   0   0  0  0⎦  ⎢        \n",
       "                                              ⎦  ⎣                   ⎣0  0   0\n",
       "                                                                              \n",
       "                                                                              \n",
       "                                                                              \n",
       "                                                                              \n",
       "                                                                              \n",
       "                                                                              \n",
       "                                                                              \n",
       "                                                                              \n",
       "                                                                              \n",
       "\n",
       "                                                                              \n",
       "                                                                              \n",
       "   0  0⎤, ⎡0  0  0   0   0⎤, ⎡0  0  0  0   0 ⎤, ⎡ 0    0  -1/2  0  0⎤, ⎡0   0 \n",
       "       ⎥  ⎢               ⎥  ⎢               ⎥  ⎢                   ⎥  ⎢      \n",
       "       ⎥  ⎢0  0  0   0   0⎥  ⎢0  0  0  0   0 ⎥  ⎢ 0    0   0    0  0⎥  ⎢0   0 \n",
       "─  0  0⎥  ⎢               ⎥  ⎢               ⎥  ⎢                   ⎥  ⎢      \n",
       "       ⎥  ⎢         -ⅈ    ⎥  ⎢0  0  0  0   0 ⎥  ⎢-1/2  0   0    0  0⎥  ⎢0   0 \n",
       "       ⎥  ⎢0  0  0  ───  0⎥  ⎢               ⎥  ⎢                   ⎥  ⎢      \n",
       "       ⎥  ⎢          2    ⎥  ⎢            -ⅈ ⎥  ⎢ 0    0   0    0  0⎥  ⎢0  -1/\n",
       "   0  0⎥  ⎢               ⎥  ⎢0  0  0  0  ───⎥  ⎢                   ⎥  ⎢      \n",
       "       ⎥  ⎢      ⅈ        ⎥  ⎢             2 ⎥  ⎣ 0    0   0    0  0⎦  ⎣0   0 \n",
       "       ⎥  ⎢0  0  ─   0   0⎥  ⎢               ⎥                                \n",
       "   0  0⎥  ⎢      2        ⎥  ⎢         ⅈ     ⎥                                \n",
       "       ⎥  ⎢               ⎥  ⎢0  0  0  ─   0 ⎥                                \n",
       "   0  0⎦  ⎣0  0  0   0   0⎦  ⎣         2     ⎦                                \n",
       "                                                                              \n",
       "                                                                              \n",
       "                                                                              \n",
       "                                                                              \n",
       "                                                                              \n",
       "                                                                              \n",
       "                                                                              \n",
       "                                                                              \n",
       "                                                                              \n",
       "\n",
       "                                                                              \n",
       "                                       ⎡         -ⅈ    ⎤                      \n",
       "   0   0    0⎤, ⎡0  0   0    0   0  ⎤, ⎢0  0  0  ───  0⎥, ⎡0  0  0  0   0 ⎤, ⎡\n",
       "             ⎥  ⎢                   ⎥  ⎢          2    ⎥  ⎢               ⎥  ⎢\n",
       "   0  -1/2  0⎥  ⎢0  0   0    0   0  ⎥  ⎢               ⎥  ⎢            -ⅈ ⎥  ⎢\n",
       "             ⎥  ⎢                   ⎥  ⎢0  0  0   0   0⎥  ⎢0  0  0  0  ───⎥  ⎢\n",
       "   0   0    0⎥  ⎢0  0   0    0  -1/2⎥  ⎢               ⎥  ⎢             2 ⎥  ⎢\n",
       "             ⎥  ⎢                   ⎥  ⎢0  0  0   0   0⎥  ⎢               ⎥  ⎢\n",
       "2  0   0    0⎥  ⎢0  0   0    0   0  ⎥  ⎢               ⎥  ⎢0  0  0  0   0 ⎥  ⎢\n",
       "             ⎥  ⎢                   ⎥  ⎢ⅈ              ⎥  ⎢               ⎥  ⎢\n",
       "   0   0    0⎦  ⎣0  0  -1/2  0   0  ⎦  ⎢─  0  0   0   0⎥  ⎢0  0  0  0   0 ⎥  ⎣\n",
       "                                       ⎢2              ⎥  ⎢               ⎥   \n",
       "                                       ⎢               ⎥  ⎢   ⅈ           ⎥   \n",
       "                                       ⎣0  0  0   0   0⎦  ⎢0  ─  0  0   0 ⎥   \n",
       "                                                          ⎣   2           ⎦   \n",
       "                                                                              \n",
       "                                                                              \n",
       "                                                                              \n",
       "                                                                              \n",
       "                                                                              \n",
       "                                                                              \n",
       "                                                                              \n",
       "                                                                              \n",
       "                                                                              \n",
       "\n",
       "                       ⎡⎡  ____                                        ⎤      \n",
       "                    ⎤  ⎢⎢╲╱ 10                                         ⎥      \n",
       " 0    0  0  0  -1/2⎤⎥, ⎢⎢──────     0         0         0         0    ⎥, ⎡0  \n",
       "                   ⎥⎥  ⎢⎢  5                                           ⎥  ⎢   \n",
       " 0    0  0  0   0  ⎥⎥  ⎢⎢                                              ⎥  ⎢   \n",
       "                   ⎥⎥  ⎢⎢           ____                               ⎥  ⎢   \n",
       " 0    0  0  0   0  ⎥⎥  ⎢⎢        -╲╱ 10                                ⎥  ⎢0  \n",
       "                   ⎥⎥  ⎢⎢  0     ────────     0         0         0    ⎥  ⎢   \n",
       " 0    0  0  0   0  ⎥⎥  ⎢⎢           20                                 ⎥  ⎢   \n",
       "                   ⎥⎥  ⎢⎢                                              ⎥  ⎢   \n",
       "-1/2  0  0  0   0  ⎦⎥  ⎢⎢                     ____                     ⎥  ⎢   \n",
       "                    ⎥  ⎢⎢                  -╲╱ 10                      ⎥  ⎢0  \n",
       "                    ⎥  ⎢⎢  0        0      ────────     0         0    ⎥  ⎢   \n",
       "                    ⎥  ⎢⎢                     20                       ⎥  ⎢   \n",
       "                    ⎦  ⎢⎢                                              ⎥  ⎢   \n",
       "                       ⎢⎢                               ____           ⎥  ⎢   \n",
       "                       ⎢⎢                            -╲╱ 10            ⎥  ⎢0  \n",
       "                       ⎢⎢  0        0         0      ────────     0    ⎥  ⎢   \n",
       "                       ⎢⎢                               20             ⎥  ⎢   \n",
       "                       ⎢⎢                                              ⎥  ⎢   \n",
       "                       ⎢⎢                                         ____ ⎥  ⎢   \n",
       "                       ⎢⎢                                      -╲╱ 10  ⎥  ⎢0  \n",
       "                       ⎢⎢  0        0         0         0      ────────⎥  ⎣   \n",
       "                       ⎣⎣                                         20   ⎦      \n",
       "\n",
       "                                                                              \n",
       "                                                                              \n",
       "  0       0        0        0   ⎤, ⎡0  0    0       0        0   ⎤, ⎡0  0  0  \n",
       "                                ⎥  ⎢                             ⎥  ⎢         \n",
       "  ___                           ⎥  ⎢0  0    0       0        0   ⎥  ⎢0  0  0  \n",
       "╲╱ 6                            ⎥  ⎢                             ⎥  ⎢         \n",
       "─────     0        0        0   ⎥  ⎢        ___                  ⎥  ⎢0  0  0  \n",
       "  4                             ⎥  ⎢      ╲╱ 3                   ⎥  ⎢         \n",
       "                                ⎥  ⎢0  0  ─────     0        0   ⎥  ⎢0  0  0  \n",
       "          ___                   ⎥  ⎢        3                    ⎥  ⎢         \n",
       "       -╲╱ 6                    ⎥  ⎢                             ⎥  ⎣0  0  0  \n",
       "  0    ───────     0        0   ⎥  ⎢                ___          ⎥            \n",
       "          12                    ⎥  ⎢             -╲╱ 3           ⎥            \n",
       "                                ⎥  ⎢0  0    0    ───────     0   ⎥            \n",
       "                   ___          ⎥  ⎢                6            ⎥            \n",
       "                -╲╱ 6           ⎥  ⎢                             ⎥            \n",
       "  0       0     ───────     0   ⎥  ⎢                         ___ ⎥            \n",
       "                   12           ⎥  ⎢                      -╲╱ 3  ⎥            \n",
       "                                ⎥  ⎢0  0    0       0     ───────⎥            \n",
       "                            ___ ⎥  ⎣                         6   ⎦            \n",
       "                         -╲╱ 6  ⎥                                             \n",
       "  0       0        0     ───────⎥                                             \n",
       "                            12  ⎦                                             \n",
       "                                                                              \n",
       "\n",
       "          ⎤⎤\n",
       "          ⎥⎥\n",
       " 0    0  ⎤⎥⎥\n",
       "         ⎥⎥⎥\n",
       " 0    0  ⎥⎥⎥\n",
       "         ⎥⎥⎥\n",
       " 0    0  ⎥⎥⎥\n",
       "         ⎥⎥⎥\n",
       "1/2   0  ⎥⎥⎥\n",
       "         ⎥⎥⎥\n",
       " 0   -1/2⎦⎥⎥\n",
       "          ⎥⎥\n",
       "          ⎥⎥\n",
       "          ⎥⎥\n",
       "          ⎥⎥\n",
       "          ⎥⎥\n",
       "          ⎥⎥\n",
       "          ⎥⎥\n",
       "          ⎥⎥\n",
       "          ⎥⎥\n",
       "          ⎥⎥\n",
       "          ⎥⎥\n",
       "          ⎥⎥\n",
       "          ⎦⎦"
      ]
     },
     "execution_count": 9,
     "metadata": {},
     "output_type": "execute_result"
    }
   ],
   "source": [
    "SU5.repMatrices([1,0,0,0])"
   ]
  },
  {
   "cell_type": "code",
   "execution_count": 10,
   "metadata": {
    "collapsed": false
   },
   "outputs": [
    {
     "data": {
      "image/png": "[encoded data removed]",
      "text/latex": [
       "$$\\left [ \\left [ \\left[\\begin{matrix}0 & \\frac{1}{2} & 0\\\\\\frac{1}{2} & 0 & 0\\\\0 & 0 & 0\\end{matrix}\\right], \\quad \\left[\\begin{matrix}0 & 0 & 0\\\\0 & 0 & \\frac{1}{2}\\\\0 & \\frac{1}{2} & 0\\end{matrix}\\right], \\quad \\left[\\begin{matrix}0 & 0 & \\frac{i}{2}\\\\0 & 0 & 0\\\\- \\frac{i}{2} & 0 & 0\\end{matrix}\\right]\\right ], \\quad \\left [ \\left[\\begin{matrix}0 & - \\frac{i}{2} & 0\\\\\\frac{i}{2} & 0 & 0\\\\0 & 0 & 0\\end{matrix}\\right], \\quad \\left[\\begin{matrix}0 & 0 & 0\\\\0 & 0 & - \\frac{i}{2}\\\\0 & \\frac{i}{2} & 0\\end{matrix}\\right], \\quad \\left[\\begin{matrix}0 & 0 & - \\frac{1}{2}\\\\0 & 0 & 0\\\\- \\frac{1}{2} & 0 & 0\\end{matrix}\\right]\\right ], \\quad \\left [ \\left[\\begin{matrix}\\frac{\\sqrt{3}}{3} & 0 & 0\\\\0 & - \\frac{\\sqrt{3}}{6} & 0\\\\0 & 0 & - \\frac{\\sqrt{3}}{6}\\end{matrix}\\right], \\quad \\left[\\begin{matrix}0 & 0 & 0\\\\0 & \\frac{1}{2} & 0\\\\0 & 0 & - \\frac{1}{2}\\end{matrix}\\right]\\right ]\\right ]$$"
      ],
      "text/plain": [
       "⎡                                                                             \n",
       "⎢⎡                              ⎡        ⅈ⎤⎤  ⎡⎡   -ⅈ    ⎤                    \n",
       "⎢⎢⎡ 0   1/2  0⎤, ⎡0   0    0 ⎤, ⎢ 0   0  ─⎥⎥, ⎢⎢0  ───  0⎥, ⎡0  0   0 ⎤, ⎡ 0  \n",
       "⎢⎢⎢           ⎥  ⎢           ⎥  ⎢        2⎥⎥  ⎢⎢    2    ⎥  ⎢         ⎥  ⎢    \n",
       "⎢⎢⎢1/2   0   0⎥  ⎢0   0   1/2⎥  ⎢         ⎥⎥  ⎢⎢         ⎥  ⎢      -ⅈ ⎥  ⎢ 0  \n",
       "⎢⎢⎢           ⎥  ⎢           ⎥  ⎢ 0   0  0⎥⎥  ⎢⎢ⅈ        ⎥  ⎢0  0  ───⎥  ⎢    \n",
       "⎢⎢⎣ 0    0   0⎦  ⎣0  1/2   0 ⎦  ⎢         ⎥⎥  ⎢⎢─   0   0⎥  ⎢       2 ⎥  ⎣-1/2\n",
       "⎢⎢                              ⎢-ⅈ       ⎥⎥  ⎢⎢2        ⎥  ⎢         ⎥       \n",
       "⎢⎢                              ⎢───  0  0⎥⎥  ⎢⎢         ⎥  ⎢   ⅈ     ⎥       \n",
       "⎢⎣                              ⎣ 2       ⎦⎦  ⎢⎣0   0   0⎦  ⎢0  ─   0 ⎥       \n",
       "⎢                                             ⎣             ⎣   2     ⎦       \n",
       "⎢                                                                             \n",
       "⎢                                                                             \n",
       "⎣                                                                             \n",
       "\n",
       "             ⎡⎡  ___                  ⎤                ⎤⎤\n",
       "          ⎤  ⎢⎢╲╱ 3                   ⎥                ⎥⎥\n",
       "  0  -1/2⎤⎥, ⎢⎢─────     0        0   ⎥, ⎡0   0    0  ⎤⎥⎥\n",
       "         ⎥⎥  ⎢⎢  3                    ⎥  ⎢            ⎥⎥⎥\n",
       "  0   0  ⎥⎥  ⎢⎢                       ⎥  ⎢0  1/2   0  ⎥⎥⎥\n",
       "         ⎥⎥  ⎢⎢          ___          ⎥  ⎢            ⎥⎥⎥\n",
       "  0   0  ⎦⎥  ⎢⎢       -╲╱ 3           ⎥  ⎣0   0   -1/2⎦⎥⎥\n",
       "          ⎥  ⎢⎢  0    ───────     0   ⎥                ⎥⎥\n",
       "          ⎥  ⎢⎢          6            ⎥                ⎥⎥\n",
       "          ⎥  ⎢⎢                       ⎥                ⎥⎥\n",
       "          ⎦  ⎢⎢                   ___ ⎥                ⎥⎥\n",
       "             ⎢⎢                -╲╱ 3  ⎥                ⎥⎥\n",
       "             ⎢⎢  0       0     ───────⎥                ⎥⎥\n",
       "             ⎣⎣                   6   ⎦                ⎦⎦"
      ]
     },
     "execution_count": 10,
     "metadata": {},
     "output_type": "execute_result"
    }
   ],
   "source": [
    "SU3.repMatrices([1,0])"
   ]
  },
  {
   "cell_type": "markdown",
   "metadata": {},
   "source": [
    "Actually, it is interesting to check that the matrices satisfy the requirement stated above"
   ]
  },
  {
   "cell_type": "code",
   "execution_count": 11,
   "metadata": {
    "collapsed": true
   },
   "outputs": [],
   "source": [
    "matsSU3 = sum(SU3.repMatrices([1,0]),[])  # kill one level of parenthesis"
   ]
  },
  {
   "cell_type": "code",
   "execution_count": 12,
   "metadata": {
    "collapsed": false
   },
   "outputs": [
    {
     "data": {
      "text/plain": [
       "[True, True, True, True, True, True, True, True]"
      ]
     },
     "execution_count": 12,
     "metadata": {},
     "output_type": "execute_result"
    }
   ],
   "source": [
    "[matsSU3[i].is_hermitian for i in range(len(matsSU3))]"
   ]
  },
  {
   "cell_type": "code",
   "execution_count": 13,
   "metadata": {
    "collapsed": false
   },
   "outputs": [
    {
     "data": {
      "image/png": "[encoded data removed]",
      "text/latex": [
       "$$\\left ( \\left[\\begin{matrix}\\frac{4}{3} & 0 & 0\\\\0 & \\frac{4}{3} & 0\\\\0 & 0 & \\frac{4}{3}\\end{matrix}\\right], \\quad \\frac{4}{3}\\right )$$"
      ],
      "text/plain": [
       "⎛⎡4/3   0    0 ⎤, 4/3⎞\n",
       "⎜⎢             ⎥     ⎟\n",
       "⎜⎢ 0   4/3   0 ⎥     ⎟\n",
       "⎜⎢             ⎥     ⎟\n",
       "⎝⎣ 0    0   4/3⎦     ⎠"
      ]
     },
     "execution_count": 13,
     "metadata": {},
     "output_type": "execute_result"
    }
   ],
   "source": [
    "reduce(operator.add,[el.multiply(el) for el in matsSU3]),SU3.casimir([1,0])"
   ]
  },
  {
   "cell_type": "code",
   "execution_count": 14,
   "metadata": {
    "collapsed": false
   },
   "outputs": [
    {
     "data": {
      "image/png": "[encoded data removed]",
      "text/latex": [
       "$$\\left [ \\left [ \\left ( \\frac{1}{2}, \\quad 0, \\quad 0\\right ), \\quad \\left ( 0, \\quad 1, \\quad 0\\right ), \\quad \\left ( 0, \\quad 2, \\quad 0\\right ), \\quad \\left ( 0, \\quad 3, \\quad 0\\right ), \\quad \\left ( 0, \\quad 4, \\quad 0\\right ), \\quad \\left ( 0, \\quad 5, \\quad 0\\right ), \\quad \\left ( 0, \\quad 6, \\quad 0\\right ), \\quad \\left ( 0, \\quad 7, \\quad 0\\right )\\right ], \\quad \\left [ \\left ( 0, \\quad 0, \\quad 1\\right ), \\quad \\left ( \\frac{1}{2}, \\quad 1, \\quad 1\\right ), \\quad \\left ( 0, \\quad 2, \\quad 1\\right ), \\quad \\left ( 0, \\quad 3, \\quad 1\\right ), \\quad \\left ( 0, \\quad 4, \\quad 1\\right ), \\quad \\left ( 0, \\quad 5, \\quad 1\\right ), \\quad \\left ( 0, \\quad 6, \\quad 1\\right ), \\quad \\left ( 0, \\quad 7, \\quad 1\\right )\\right ], \\quad \\left [ \\left ( 0, \\quad 0, \\quad 2\\right ), \\quad \\left ( 0, \\quad 1, \\quad 2\\right ), \\quad \\left ( \\frac{1}{2}, \\quad 2, \\quad 2\\right ), \\quad \\left ( 0, \\quad 3, \\quad 2\\right ), \\quad \\left ( 0, \\quad 4, \\quad 2\\right ), \\quad \\left ( 0, \\quad 5, \\quad 2\\right ), \\quad \\left ( 0, \\quad 6, \\quad 2\\right ), \\quad \\left ( 0, \\quad 7, \\quad 2\\right )\\right ], \\quad \\left [ \\left ( 0, \\quad 0, \\quad 3\\right ), \\quad \\left ( 0, \\quad 1, \\quad 3\\right ), \\quad \\left ( 0, \\quad 2, \\quad 3\\right ), \\quad \\left ( \\frac{1}{2}, \\quad 3, \\quad 3\\right ), \\quad \\left ( 0, \\quad 4, \\quad 3\\right ), \\quad \\left ( 0, \\quad 5, \\quad 3\\right ), \\quad \\left ( 0, \\quad 6, \\quad 3\\right ), \\quad \\left ( 0, \\quad 7, \\quad 3\\right )\\right ], \\quad \\left [ \\left ( 0, \\quad 0, \\quad 4\\right ), \\quad \\left ( 0, \\quad 1, \\quad 4\\right ), \\quad \\left ( 0, \\quad 2, \\quad 4\\right ), \\quad \\left ( 0, \\quad 3, \\quad 4\\right ), \\quad \\left ( \\frac{1}{2}, \\quad 4, \\quad 4\\right ), \\quad \\left ( 0, \\quad 5, \\quad 4\\right ), \\quad \\left ( 0, \\quad 6, \\quad 4\\right ), \\quad \\left ( 0, \\quad 7, \\quad 4\\right )\\right ], \\quad \\left [ \\left ( 0, \\quad 0, \\quad 5\\right ), \\quad \\left ( 0, \\quad 1, \\quad 5\\right ), \\quad \\left ( 0, \\quad 2, \\quad 5\\right ), \\quad \\left ( 0, \\quad 3, \\quad 5\\right ), \\quad \\left ( 0, \\quad 4, \\quad 5\\right ), \\quad \\left ( \\frac{1}{2}, \\quad 5, \\quad 5\\right ), \\quad \\left ( 0, \\quad 6, \\quad 5\\right ), \\quad \\left ( 0, \\quad 7, \\quad 5\\right )\\right ], \\quad \\left [ \\left ( 0, \\quad 0, \\quad 6\\right ), \\quad \\left ( 0, \\quad 1, \\quad 6\\right ), \\quad \\left ( 0, \\quad 2, \\quad 6\\right ), \\quad \\left ( 0, \\quad 3, \\quad 6\\right ), \\quad \\left ( 0, \\quad 4, \\quad 6\\right ), \\quad \\left ( 0, \\quad 5, \\quad 6\\right ), \\quad \\left ( \\frac{1}{2}, \\quad 6, \\quad 6\\right ), \\quad \\left ( 0, \\quad 7, \\quad 6\\right )\\right ], \\quad \\left [ \\left ( 0, \\quad 0, \\quad 7\\right ), \\quad \\left ( 0, \\quad 1, \\quad 7\\right ), \\quad \\left ( 0, \\quad 2, \\quad 7\\right ), \\quad \\left ( 0, \\quad 3, \\quad 7\\right ), \\quad \\left ( 0, \\quad 4, \\quad 7\\right ), \\quad \\left ( 0, \\quad 5, \\quad 7\\right ), \\quad \\left ( 0, \\quad 6, \\quad 7\\right ), \\quad \\left ( \\frac{1}{2}, \\quad 7, \\quad 7\\right )\\right ]\\right ]$$"
      ],
      "text/plain": [
       "[[(1/2, 0, 0), (0, 1, 0), (0, 2, 0), (0, 3, 0), (0, 4, 0), (0, 5, 0), (0, 6, 0\n",
       "), (0, 7, 0)], [(0, 0, 1), (1/2, 1, 1), (0, 2, 1), (0, 3, 1), (0, 4, 1), (0, 5\n",
       ", 1), (0, 6, 1), (0, 7, 1)], [(0, 0, 2), (0, 1, 2), (1/2, 2, 2), (0, 3, 2), (0\n",
       ", 4, 2), (0, 5, 2), (0, 6, 2), (0, 7, 2)], [(0, 0, 3), (0, 1, 3), (0, 2, 3), (\n",
       "1/2, 3, 3), (0, 4, 3), (0, 5, 3), (0, 6, 3), (0, 7, 3)], [(0, 0, 4), (0, 1, 4)\n",
       ", (0, 2, 4), (0, 3, 4), (1/2, 4, 4), (0, 5, 4), (0, 6, 4), (0, 7, 4)], [(0, 0,\n",
       " 5), (0, 1, 5), (0, 2, 5), (0, 3, 5), (0, 4, 5), (1/2, 5, 5), (0, 6, 5), (0, 7\n",
       ", 5)], [(0, 0, 6), (0, 1, 6), (0, 2, 6), (0, 3, 6), (0, 4, 6), (0, 5, 6), (1/2\n",
       ", 6, 6), (0, 7, 6)], [(0, 0, 7), (0, 1, 7), (0, 2, 7), (0, 3, 7), (0, 4, 7), (\n",
       "0, 5, 7), (0, 6, 7), (1/2, 7, 7)]]"
      ]
     },
     "execution_count": 14,
     "metadata": {},
     "output_type": "execute_result"
    }
   ],
   "source": [
    "[[((el.multiply(ell)).trace(),iel,iell) for iel,el in enumerate(matsSU3)] for iell,ell in enumerate(matsSU3)]"
   ]
  },
  {
   "cell_type": "markdown",
   "metadata": {},
   "source": [
    "We see that indeed the product is non zero only on the diagonal i.e. when $i=j$. In addition it is equal to the Dynkin index of the representation as can be checked explicitly"
   ]
  },
  {
   "cell_type": "code",
   "execution_count": 15,
   "metadata": {
    "collapsed": false
   },
   "outputs": [
    {
     "data": {
      "image/png": "[encoded data removed]",
      "text/latex": [
       "$$\\frac{1}{2}$$"
      ],
      "text/plain": [
       "1/2"
      ]
     },
     "execution_count": 15,
     "metadata": {},
     "output_type": "execute_result"
    }
   ],
   "source": [
    "SU3.dynkinIndex([1,0])"
   ]
  },
  {
   "cell_type": "markdown",
   "metadata": {},
   "source": [
    "#### Dimension"
   ]
  },
  {
   "cell_type": "markdown",
   "metadata": {},
   "source": [
    "The function `repsUpToDimN` can be used to get the list of irrep with a dimension smaller than $n$"
   ]
  },
  {
   "cell_type": "code",
   "execution_count": 16,
   "metadata": {
    "collapsed": true
   },
   "outputs": [],
   "source": [
    "irrepsSO10 = SO10.repsUpToDimN(100)"
   ]
  },
  {
   "cell_type": "code",
   "execution_count": 17,
   "metadata": {
    "collapsed": false
   },
   "outputs": [
    {
     "data": {
      "image/png": "[encoded data removed]",
      "text/latex": [
       "$$\\left ( 6, \\quad \\left [ \\left [ 0, \\quad 0, \\quad 0, \\quad 0, \\quad 0\\right ], \\quad \\left [ 1, \\quad 0, \\quad 0, \\quad 0, \\quad 0\\right ], \\quad \\left [ 0, \\quad 0, \\quad 0, \\quad 0, \\quad 1\\right ], \\quad \\left [ 0, \\quad 0, \\quad 0, \\quad 1, \\quad 0\\right ], \\quad \\left [ 0, \\quad 1, \\quad 0, \\quad 0, \\quad 0\\right ], \\quad \\left [ 2, \\quad 0, \\quad 0, \\quad 0, \\quad 0\\right ]\\right ]\\right )$$"
      ],
      "text/plain": [
       "(6, [[0, 0, 0, 0, 0], [1, 0, 0, 0, 0], [0, 0, 0, 0, 1], [0, 0, 0, 1, 0], [0, 1\n",
       ", 0, 0, 0], [2, 0, 0, 0, 0]])"
      ]
     },
     "execution_count": 17,
     "metadata": {},
     "output_type": "execute_result"
    }
   ],
   "source": [
    "len(irrepsSO10),irrepsSO10"
   ]
  },
  {
   "cell_type": "markdown",
   "metadata": {},
   "source": [
    "Let's get the dimension of each one of the irreps:"
   ]
  },
  {
   "cell_type": "code",
   "execution_count": 18,
   "metadata": {
    "collapsed": false
   },
   "outputs": [
    {
     "data": {
      "text/plain": [
       "['[0, 0, 0, 0, 0]: 1',\n",
       " '[1, 0, 0, 0, 0]: 10',\n",
       " '[0, 0, 0, 0, 1]: 16',\n",
       " '[0, 0, 0, 1, 0]: 16',\n",
       " '[0, 1, 0, 0, 0]: 45',\n",
       " '[2, 0, 0, 0, 0]: 54']"
      ]
     },
     "execution_count": 18,
     "metadata": {},
     "output_type": "execute_result"
    }
   ],
   "source": [
    "[\"{}: {}\".format(el,SO10.dimR(el)) for el in irrepsSO10]"
   ]
  },
  {
   "cell_type": "markdown",
   "metadata": {},
   "source": [
    "Note: It looks like there is no irrep with dimensions between 54 and 100.\n"
   ]
  },
  {
   "cell_type": "markdown",
   "metadata": {},
   "source": [
    "One can also get the conjugated of a given irrep:"
   ]
  },
  {
   "cell_type": "code",
   "execution_count": 19,
   "metadata": {
    "collapsed": false
   },
   "outputs": [
    {
     "data": {
      "text/plain": [
       "array([1, 1, 0, 1])"
      ]
     },
     "execution_count": 19,
     "metadata": {},
     "output_type": "execute_result"
    }
   ],
   "source": [
    "SU5.conjugateIrrep([1,0,1,1])"
   ]
  },
  {
   "cell_type": "markdown",
   "metadata": {},
   "source": [
    "As said above the adjoint of a given Lie algebra is stored in the attribute `adjoint`"
   ]
  },
  {
   "cell_type": "code",
   "execution_count": 20,
   "metadata": {
    "collapsed": false
   },
   "outputs": [
    {
     "data": {
      "text/plain": [
       "[(array([[2]], dtype=object), 3),\n",
       " (array([[1, 1]], dtype=object), 8),\n",
       " (array([[1, 0, 1]], dtype=object), 15),\n",
       " (array([[1, 0, 0, 1]], dtype=object), 24),\n",
       " (array([[0, 1, 0, 0, 0]], dtype=object), 45)]"
      ]
     },
     "execution_count": 20,
     "metadata": {},
     "output_type": "execute_result"
    }
   ],
   "source": [
    "[(el.adjoint,el.dimR(el.adjoint)) for el in [SU2,SU3,SU4,SU5,SO10]]"
   ]
  },
  {
   "cell_type": "markdown",
   "metadata": {},
   "source": [
    "### IV.IV Invariants\n",
    "#### Two irreps"
   ]
  },
  {
   "cell_type": "code",
   "execution_count": 21,
   "metadata": {
    "collapsed": false
   },
   "outputs": [
    {
     "data": {
      "image/png": "[encoded data removed]",
      "text/latex": [
       "$$\\left ( a_{1} b_{1} + a_{2} b_{2}, \\quad a_{1} b_{2} - a_{2} b_{1}\\right )$$"
      ],
      "text/plain": [
       "(a[1]⋅b[1] + a[2]⋅b[2], a[1]⋅b[2] - a[2]⋅b[1])"
      ]
     },
     "execution_count": 21,
     "metadata": {},
     "output_type": "execute_result"
    }
   ],
   "source": [
    "SU2.invariants([[1],[1]],conj=[True,False])[0],SU2.invariants([[1],[1]],conj=[True,True])[0]"
   ]
  },
  {
   "cell_type": "code",
   "execution_count": 22,
   "metadata": {
    "collapsed": false
   },
   "outputs": [
    {
     "data": {
      "image/png": "[encoded data removed]",
      "text/latex": [
       "$$\\left ( a_{1} b_{1} + a_{2} b_{2} + a_{3} b_{3}, \\quad a_{1} b_{1} + a_{2} b_{2} + a_{3} b_{3}\\right )$$"
      ],
      "text/plain": [
       "(a[1]⋅b[1] + a[2]⋅b[2] + a[3]⋅b[3], a[1]⋅b[1] + a[2]⋅b[2] + a[3]⋅b[3])"
      ]
     },
     "execution_count": 22,
     "metadata": {},
     "output_type": "execute_result"
    }
   ],
   "source": [
    "SU3.invariants([[1,0],[1,0]],conj=[True,False])[0], SU3.invariants([[1,0],[0,1]],conj=[False,False])[0]"
   ]
  },
  {
   "cell_type": "code",
   "execution_count": 23,
   "metadata": {
    "collapsed": false
   },
   "outputs": [
    {
     "data": {
      "image/png": "[encoded data removed]",
      "text/latex": [
       "$$a_{1} b_{1} + a_{2} b_{2} + a_{3} b_{3} + a_{4} b_{4} + a_{5} b_{5}$$"
      ],
      "text/plain": [
       "a[1]⋅b[1] + a[2]⋅b[2] + a[3]⋅b[3] + a[4]⋅b[4] + a[5]⋅b[5]"
      ]
     },
     "execution_count": 23,
     "metadata": {},
     "output_type": "execute_result"
    }
   ],
   "source": [
    "SU5.invariants([[1,0,0,0],[0,0,0,1]],conj=[False,False])[0]"
   ]
  },
  {
   "cell_type": "code",
   "execution_count": 24,
   "metadata": {
    "collapsed": false
   },
   "outputs": [
    {
     "data": {
      "image/png": "[encoded data removed]",
      "text/latex": [
       "$$a_{1} b_{1} + a_{2} b_{2} + a_{3} b_{3} + a_{4} b_{4} + a_{5} b_{5} + a_{6} b_{6} + a_{7} b_{7} + a_{8} b_{8} + a_{9} b_{9} + a_{10} b_{10} + a_{11} b_{11} + a_{12} b_{12} + a_{13} b_{13} + a_{14} b_{14} + a_{15} b_{15} + a_{16} b_{16} + a_{17} b_{17} + a_{18} b_{18} + a_{19} b_{19} + a_{20} b_{20} + a_{21} b_{21} + a_{22} b_{22} + a_{23} b_{23} + a_{24} b_{24} + a_{25} b_{25} + a_{26} b_{26} + a_{27} b_{27} + a_{28} b_{28} + a_{29} b_{29} + a_{30} b_{30} + a_{31} b_{31} + a_{32} b_{32} + a_{33} b_{33} + a_{34} b_{34} + a_{35} b_{35} + a_{36} b_{36} + a_{37} b_{37} + a_{38} b_{38} + a_{39} b_{39} + a_{40} b_{40}$$"
      ],
      "text/plain": [
       "a[1]⋅b[1] + a[2]⋅b[2] + a[3]⋅b[3] + a[4]⋅b[4] + a[5]⋅b[5] + a[6]⋅b[6] + a[7]⋅b\n",
       "[7] + a[8]⋅b[8] + a[9]⋅b[9] + a[10]⋅b[10] + a[11]⋅b[11] + a[12]⋅b[12] + a[13]⋅\n",
       "b[13] + a[14]⋅b[14] + a[15]⋅b[15] + a[16]⋅b[16] + a[17]⋅b[17] + a[18]⋅b[18] + \n",
       "a[19]⋅b[19] + a[20]⋅b[20] + a[21]⋅b[21] + a[22]⋅b[22] + a[23]⋅b[23] + a[24]⋅b[\n",
       "24] + a[25]⋅b[25] + a[26]⋅b[26] + a[27]⋅b[27] + a[28]⋅b[28] + a[29]⋅b[29] + a[\n",
       "30]⋅b[30] + a[31]⋅b[31] + a[32]⋅b[32] + a[33]⋅b[33] + a[34]⋅b[34] + a[35]⋅b[35\n",
       "] + a[36]⋅b[36] + a[37]⋅b[37] + a[38]⋅b[38] + a[39]⋅b[39] + a[40]⋅b[40]"
      ]
     },
     "execution_count": 24,
     "metadata": {},
     "output_type": "execute_result"
    }
   ],
   "source": [
    "SU5.invariants([[1,1,0,0],[0,0,1,1]],conj=[False,False])[0]"
   ]
  },
  {
   "cell_type": "markdown",
   "metadata": {},
   "source": [
    "#### Three fields"
   ]
  },
  {
   "cell_type": "code",
   "execution_count": 25,
   "metadata": {
    "collapsed": false
   },
   "outputs": [
    {
     "data": {
      "image/png": "[encoded data removed]",
      "text/latex": [
       "$$\\frac{\\sqrt{2} a_{1}}{3} 3^{\\frac{3}{4}} b_{2} c_{2} - \\frac{3^{\\frac{3}{4}} a_{2}}{3} b_{1} c_{2} - \\frac{3^{\\frac{3}{4}} a_{2}}{3} b_{2} c_{1} + \\frac{\\sqrt{2} a_{3}}{3} 3^{\\frac{3}{4}} b_{1} c_{1}$$"
      ],
      "text/plain": [
       "  ___  3/4                   3/4                   3/4                    ___ \n",
       "╲╱ 2 ⋅3   ⋅a[1]⋅b[2]⋅c[2]   3   ⋅a[2]⋅b[1]⋅c[2]   3   ⋅a[2]⋅b[2]⋅c[1]   ╲╱ 2 ⋅\n",
       "───────────────────────── - ─────────────────── - ─────────────────── + ──────\n",
       "            3                        3                     3                  \n",
       "\n",
       " 3/4               \n",
       "3   ⋅a[3]⋅b[1]⋅c[1]\n",
       "───────────────────\n",
       "      3            "
      ]
     },
     "execution_count": 25,
     "metadata": {},
     "output_type": "execute_result"
    }
   ],
   "source": [
    "SU2.invariants([[2],[1],[1]],conj=[False,False,False])[0]"
   ]
  },
  {
   "cell_type": "code",
   "execution_count": 26,
   "metadata": {
    "collapsed": false
   },
   "outputs": [
    {
     "data": {
      "image/png": "[encoded data removed]",
      "text/latex": [
       "$$- \\frac{\\sqrt{2} \\sqrt[4]{3}}{2} a_{1} b_{2} c_{3} + \\frac{\\sqrt{2} \\sqrt[4]{3}}{2} a_{1} b_{3} c_{2} + \\frac{\\sqrt{2} \\sqrt[4]{3}}{2} a_{2} b_{1} c_{3} - \\frac{\\sqrt{2} \\sqrt[4]{3}}{2} a_{2} b_{3} c_{1} - \\frac{\\sqrt{2} \\sqrt[4]{3}}{2} a_{3} b_{1} c_{2} + \\frac{\\sqrt{2} \\sqrt[4]{3}}{2} a_{3} b_{2} c_{1}$$"
      ],
      "text/plain": [
       "    ___ 4 ___                    ___ 4 ___                    ___ 4 ___       \n",
       "  ╲╱ 2 ⋅╲╱ 3 ⋅a[1]⋅b[2]⋅c[3]   ╲╱ 2 ⋅╲╱ 3 ⋅a[1]⋅b[3]⋅c[2]   ╲╱ 2 ⋅╲╱ 3 ⋅a[2]⋅b\n",
       "- ────────────────────────── + ────────────────────────── + ──────────────────\n",
       "              2                            2                            2     \n",
       "\n",
       "             ___ 4 ___                    ___ 4 ___                    ___ 4 _\n",
       "[1]⋅c[3]   ╲╱ 2 ⋅╲╱ 3 ⋅a[2]⋅b[3]⋅c[1]   ╲╱ 2 ⋅╲╱ 3 ⋅a[3]⋅b[1]⋅c[2]   ╲╱ 2 ⋅╲╱ \n",
       "──────── - ────────────────────────── - ────────────────────────── + ─────────\n",
       "                       2                            2                         \n",
       "\n",
       "__               \n",
       "3 ⋅a[3]⋅b[2]⋅c[1]\n",
       "─────────────────\n",
       "   2             "
      ]
     },
     "execution_count": 26,
     "metadata": {},
     "output_type": "execute_result"
    }
   ],
   "source": [
    "SU3.invariants([[1,0],[1,0],[1,0]],conj=[False]*3)[0]"
   ]
  },
  {
   "cell_type": "code",
   "execution_count": 28,
   "metadata": {
    "collapsed": false
   },
   "outputs": [
    {
     "data": {
      "image/png": "[encoded data removed]",
      "text/latex": [
       "$$\\left [ a_{1} b_{3} - a_{2} b_{2} + a_{3} b_{1}\\right ]$$"
      ],
      "text/plain": [
       "[a[1]⋅b[3] - a[2]⋅b[2] + a[3]⋅b[1]]"
      ]
     },
     "execution_count": 28,
     "metadata": {},
     "output_type": "execute_result"
    }
   ],
   "source": [
    "SU2.invariants([[2],[2]],conj=[False]*2)"
   ]
  },
  {
   "cell_type": "code",
   "execution_count": 29,
   "metadata": {
    "collapsed": false
   },
   "outputs": [
    {
     "data": {
      "text/plain": [
       "array([[2, -1, 0, 0, 0],\n",
       "       [-1, 2, -1, 0, 0],\n",
       "       [0, -1, 2, -1, -1],\n",
       "       [0, 0, -1, 2, 0],\n",
       "       [0, 0, -1, 0, 2],\n",
       "       [1, 1, -1, 0, 0],\n",
       "       [-1, 1, 1, -1, -1],\n",
       "       [0, -1, 1, 1, -1],\n",
       "       [0, -1, 1, -1, 1],\n",
       "       [1, 0, 1, -1, -1],\n",
       "       [-1, 1, 0, 1, -1],\n",
       "       [-1, 1, 0, -1, 1],\n",
       "       [0, -1, 0, 1, 1],\n",
       "       [1, 0, 0, 1, -1],\n",
       "       [1, 0, 0, -1, 1],\n",
       "       [-1, 1, -1, 1, 1],\n",
       "       [1, 0, -1, 1, 1],\n",
       "       [-1, 0, 1, 0, 0],\n",
       "       [1, -1, 1, 0, 0],\n",
       "       [0, 1, 0, 0, 0]], dtype=object)"
      ]
     },
     "execution_count": 29,
     "metadata": {},
     "output_type": "execute_result"
    }
   ],
   "source": [
    "SO10.proots"
   ]
  },
  {
   "cell_type": "code",
   "execution_count": 30,
   "metadata": {
    "collapsed": true
   },
   "outputs": [],
   "source": [
    "Sn = Permutation()"
   ]
  },
  {
   "cell_type": "code",
   "execution_count": 33,
   "metadata": {
    "collapsed": false
   },
   "outputs": [
    {
     "data": {
      "image/png": "[encoded data removed]",
      "text/latex": [
       "$$\\frac{n}{2} \\left(n - 1\\right)$$"
      ],
      "text/plain": [
       "n⋅(n - 1)\n",
       "─────────\n",
       "    2    "
      ]
     },
     "execution_count": 33,
     "metadata": {},
     "output_type": "execute_result"
    }
   ],
   "source": [
    "Sn.hookContentFormula([1,1],Symbol('n'))"
   ]
  },
  {
   "cell_type": "code",
   "execution_count": null,
   "metadata": {
    "collapsed": true
   },
   "outputs": [],
   "source": []
  }
 ],
 "metadata": {
  "kernelspec": {
   "display_name": "Python 2",
   "language": "python",
   "name": "python2"
  },
  "language_info": {
   "codemirror_mode": {
    "name": "ipython",
    "version": 2
   },
   "file_extension": ".py",
   "mimetype": "text/x-python",
   "name": "python",
   "nbconvert_exporter": "python",
   "pygments_lexer": "ipython2",
   "version": "2.7.10"
  }
 },
 "nbformat": 4,
 "nbformat_minor": 0
}
